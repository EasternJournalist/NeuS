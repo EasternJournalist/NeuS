{
 "cells": [
  {
   "cell_type": "code",
   "execution_count": 1,
   "metadata": {},
   "outputs": [],
   "source": [
    "import numpy as np\n",
    "import utils3d\n",
    "from pathlib import Path"
   ]
  },
  {
   "cell_type": "code",
   "execution_count": 19,
   "metadata": {},
   "outputs": [],
   "source": [
    "data_dir = Path('public_data/gt_image_5_14view')\n",
    "view = np.load('public_data/matrix_14.npy')\n",
    "intrinsics = utils3d.numpy.intrinsic_from_fov(fov=np.pi / 2.0, width=256, height=256)\n",
    "\n",
    "# def scale_to_unit_sphere(view):\n",
    "#     \"\"\"Scale the extrinsics so that the camera is at the unit sphere.\"\"\"\n",
    "#     view = view.copy()\n",
    "#     center = np.mean(view[:, :3, 3], axis=0)\n",
    "#     view[:, :3, 3] -= center\n",
    "#     radius = np.max(np.linalg.norm(view[:, :3, 3], axis=1))\n",
    "#     view[:, :3, 3] *=  1.1 / radius\n",
    "#     return view\n",
    "\n",
    "# print(view[0])\n",
    "world_mat = utils3d.numpy.view_to_extrinsic(view)\n",
    "camera_mat = np.concatenate([np.concatenate([intrinsics, np.zeros((3, 1))], axis=1), np.array([[0, 0, 0, 1]])], axis=0) \n",
    "scale_mat = np.array([[1, 0, 0, 0], [0, 1, 0, 0], [0, 0, 1, 0], [0, 0, 0, 1]])"
   ]
  },
  {
   "cell_type": "code",
   "execution_count": null,
   "metadata": {},
   "outputs": [],
   "source": [
    "camera_npz = {}\n",
    "for i in range(view.shape[0]):\n",
    "    camera_npz[f'world_mat_{i}'] = camera_mat @ world_mat[i]\n",
    "    camera_npz[f'camera_mat_{i}'] = camera_mat\n",
    "    camera_npz[f'scale_mat_{i}'] = scale_mat"
   ]
  },
  {
   "cell_type": "code",
   "execution_count": null,
   "metadata": {},
   "outputs": [],
   "source": [
    "np.savez(data_dir / 'cameras_sphere.npz', **camera_npz)"
   ]
  },
  {
   "cell_type": "code",
   "execution_count": null,
   "metadata": {},
   "outputs": [],
   "source": [
    "from PIL import Image\n",
    "from pathlib import Path\n",
    "\n",
    "(data_dir / \"image\").mkdir(exist_ok=True)\n",
    "(data_dir / \"mask\").mkdir(exist_ok=True)\n",
    "for i in range(view.shape[0]):\n",
    "    im = Image.open(data_dir / f\"color_{i}_gt.png\")\n",
    "    mask = (np.array(im)[:, :, 0] < 255) | (np.array(im)[:, :, 1] < 255) | (np.array(im)[:, :, 2]< 255)\n",
    "    im.save(data_dir / \"image\" / f\"{i:03d}.png\")\n",
    "    Image.fromarray(mask).save(data_dir / \"mask\" / f\"{i:03d}.png\")\n"
   ]
  },
  {
   "cell_type": "code",
   "execution_count": 19,
   "metadata": {},
   "outputs": [
    {
     "data": {
      "text/plain": [
       "array([[1.5603623e+03, 0.0000000e+00, 9.8567297e+02, 0.0000000e+00],\n",
       "       [0.0000000e+00, 1.5601309e+03, 7.4222577e+02, 0.0000000e+00],\n",
       "       [0.0000000e+00, 0.0000000e+00, 1.0000000e+00, 0.0000000e+00],\n",
       "       [0.0000000e+00, 0.0000000e+00, 0.0000000e+00, 1.0000000e+00]],\n",
       "      dtype=float32)"
      ]
     },
     "execution_count": 19,
     "metadata": {},
     "output_type": "execute_result"
    }
   ],
   "source": [
    "camera_npz_example['camera_mat_0']"
   ]
  },
  {
   "cell_type": "code",
   "execution_count": null,
   "metadata": {},
   "outputs": [],
   "source": []
  }
 ],
 "metadata": {
  "kernelspec": {
   "display_name": "base",
   "language": "python",
   "name": "python3"
  },
  "language_info": {
   "codemirror_mode": {
    "name": "ipython",
    "version": 3
   },
   "file_extension": ".py",
   "mimetype": "text/x-python",
   "name": "python",
   "nbconvert_exporter": "python",
   "pygments_lexer": "ipython3",
   "version": "3.10.10"
  },
  "orig_nbformat": 4
 },
 "nbformat": 4,
 "nbformat_minor": 2
}
